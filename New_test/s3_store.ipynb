{
 "cells": [
  {
   "cell_type": "code",
   "execution_count": null,
   "metadata": {},
   "outputs": [],
   "source": []
  },
  {
   "cell_type": "code",
   "execution_count": 1,
   "metadata": {},
   "outputs": [
    {
     "name": "stdout",
     "output_type": "stream",
     "text": [
      "Collecting boto3\n",
      "  Downloading boto3-1.26.160-py3-none-any.whl (135 kB)\n",
      "                                              0.0/135.9 kB ? eta -:--:--\n",
      "     --------------------------              92.2/135.9 kB 2.6 MB/s eta 0:00:01\n",
      "     -------------------------------------- 135.9/135.9 kB 2.7 MB/s eta 0:00:00\n",
      "Collecting botocore<1.30.0,>=1.29.160 (from boto3)\n",
      "  Downloading botocore-1.29.160-py3-none-any.whl (10.9 MB)\n",
      "                                              0.0/10.9 MB ? eta -:--:--\n",
      "                                              0.1/10.9 MB 4.3 MB/s eta 0:00:03\n",
      "     -                                        0.3/10.9 MB 5.2 MB/s eta 0:00:03\n",
      "     --                                       0.6/10.9 MB 5.4 MB/s eta 0:00:02\n",
      "     ---                                      0.9/10.9 MB 5.0 MB/s eta 0:00:03\n",
      "     ---                                      1.0/10.9 MB 5.1 MB/s eta 0:00:02\n",
      "     ----                                     1.3/10.9 MB 5.2 MB/s eta 0:00:02\n",
      "     -----                                    1.6/10.9 MB 5.1 MB/s eta 0:00:02\n",
      "     ------                                   1.9/10.9 MB 5.2 MB/s eta 0:00:02\n",
      "     -------                                  2.0/10.9 MB 5.2 MB/s eta 0:00:02\n",
      "     --------                                 2.3/10.9 MB 5.3 MB/s eta 0:00:02\n",
      "     ---------                                2.5/10.9 MB 5.1 MB/s eta 0:00:02\n",
      "     ---------                                2.7/10.9 MB 5.1 MB/s eta 0:00:02\n",
      "     ----------                               2.9/10.9 MB 4.9 MB/s eta 0:00:02\n",
      "     -----------                              3.1/10.9 MB 5.0 MB/s eta 0:00:02\n",
      "     -----------                              3.2/10.9 MB 4.9 MB/s eta 0:00:02\n",
      "     ------------                             3.4/10.9 MB 4.7 MB/s eta 0:00:02\n",
      "     -------------                            3.6/10.9 MB 4.7 MB/s eta 0:00:02\n",
      "     -------------                            3.8/10.9 MB 4.7 MB/s eta 0:00:02\n",
      "     --------------                           4.0/10.9 MB 4.6 MB/s eta 0:00:02\n",
      "     ---------------                          4.1/10.9 MB 4.6 MB/s eta 0:00:02\n",
      "     ---------------                          4.1/10.9 MB 4.4 MB/s eta 0:00:02\n",
      "     ---------------                          4.2/10.9 MB 4.2 MB/s eta 0:00:02\n",
      "     ---------------                          4.4/10.9 MB 4.2 MB/s eta 0:00:02\n",
      "     ----------------                         4.6/10.9 MB 4.2 MB/s eta 0:00:02\n",
      "     -----------------                        4.8/10.9 MB 4.2 MB/s eta 0:00:02\n",
      "     -----------------                        4.8/10.9 MB 4.1 MB/s eta 0:00:02\n",
      "     -----------------                        4.8/10.9 MB 3.9 MB/s eta 0:00:02\n",
      "     ------------------                       5.0/10.9 MB 3.9 MB/s eta 0:00:02\n",
      "     -------------------                      5.2/10.9 MB 3.9 MB/s eta 0:00:02\n",
      "     -------------------                      5.3/10.9 MB 3.8 MB/s eta 0:00:02\n",
      "     -------------------                      5.3/10.9 MB 3.8 MB/s eta 0:00:02\n",
      "     --------------------                     5.6/10.9 MB 3.8 MB/s eta 0:00:02\n",
      "     --------------------                     5.7/10.9 MB 3.8 MB/s eta 0:00:02\n",
      "     ---------------------                    5.9/10.9 MB 3.8 MB/s eta 0:00:02\n",
      "     ----------------------                   6.0/10.9 MB 3.7 MB/s eta 0:00:02\n",
      "     ----------------------                   6.1/10.9 MB 3.8 MB/s eta 0:00:02\n",
      "     ----------------------                   6.3/10.9 MB 3.7 MB/s eta 0:00:02\n",
      "     -----------------------                  6.4/10.9 MB 3.7 MB/s eta 0:00:02\n",
      "     ------------------------                 6.7/10.9 MB 3.7 MB/s eta 0:00:02\n",
      "     -------------------------                6.9/10.9 MB 3.7 MB/s eta 0:00:02\n",
      "     -------------------------                7.0/10.9 MB 3.7 MB/s eta 0:00:02\n",
      "     -------------------------                7.0/10.9 MB 3.7 MB/s eta 0:00:02\n",
      "     -------------------------                7.0/10.9 MB 3.5 MB/s eta 0:00:02\n",
      "     -------------------------                7.1/10.9 MB 3.5 MB/s eta 0:00:02\n",
      "     --------------------------               7.2/10.9 MB 3.5 MB/s eta 0:00:02\n",
      "     --------------------------               7.2/10.9 MB 3.4 MB/s eta 0:00:02\n",
      "     ---------------------------              7.4/10.9 MB 3.4 MB/s eta 0:00:02\n",
      "     ---------------------------              7.6/10.9 MB 3.4 MB/s eta 0:00:01\n",
      "     ----------------------------             7.8/10.9 MB 3.5 MB/s eta 0:00:01\n",
      "     -----------------------------            8.0/10.9 MB 3.4 MB/s eta 0:00:01\n",
      "     -----------------------------            8.2/10.9 MB 3.5 MB/s eta 0:00:01\n",
      "     ------------------------------           8.4/10.9 MB 3.5 MB/s eta 0:00:01\n",
      "     -------------------------------          8.6/10.9 MB 3.5 MB/s eta 0:00:01\n",
      "     --------------------------------         8.8/10.9 MB 3.5 MB/s eta 0:00:01\n",
      "     --------------------------------         8.9/10.9 MB 3.5 MB/s eta 0:00:01\n",
      "     ---------------------------------        9.1/10.9 MB 3.5 MB/s eta 0:00:01\n",
      "     ---------------------------------        9.3/10.9 MB 3.5 MB/s eta 0:00:01\n",
      "     ----------------------------------       9.4/10.9 MB 3.5 MB/s eta 0:00:01\n",
      "     -----------------------------------      9.6/10.9 MB 3.5 MB/s eta 0:00:01\n",
      "     -----------------------------------      9.8/10.9 MB 3.5 MB/s eta 0:00:01\n",
      "     ------------------------------------     10.0/10.9 MB 3.6 MB/s eta 0:00:01\n",
      "     ------------------------------------     10.1/10.9 MB 3.6 MB/s eta 0:00:01\n",
      "     -------------------------------------    10.3/10.9 MB 3.6 MB/s eta 0:00:01\n",
      "     --------------------------------------   10.5/10.9 MB 3.5 MB/s eta 0:00:01\n",
      "     --------------------------------------   10.6/10.9 MB 3.5 MB/s eta 0:00:01\n",
      "     ---------------------------------------  10.9/10.9 MB 3.5 MB/s eta 0:00:01\n",
      "     ---------------------------------------  10.9/10.9 MB 3.5 MB/s eta 0:00:01\n",
      "     ---------------------------------------  10.9/10.9 MB 3.5 MB/s eta 0:00:01\n",
      "     ---------------------------------------  10.9/10.9 MB 3.4 MB/s eta 0:00:01\n",
      "     ---------------------------------------- 10.9/10.9 MB 3.3 MB/s eta 0:00:00\n",
      "Collecting jmespath<2.0.0,>=0.7.1 (from boto3)\n",
      "  Downloading jmespath-1.0.1-py3-none-any.whl (20 kB)\n",
      "Collecting s3transfer<0.7.0,>=0.6.0 (from boto3)\n",
      "  Downloading s3transfer-0.6.1-py3-none-any.whl (79 kB)\n",
      "                                              0.0/79.8 kB ? eta -:--:--\n",
      "     ---------------------------------------- 79.8/79.8 kB 2.2 MB/s eta 0:00:00\n",
      "Requirement already satisfied: python-dateutil<3.0.0,>=2.1 in c:\\users\\serda\\appdata\\roaming\\python\\python311\\site-packages (from botocore<1.30.0,>=1.29.160->boto3) (2.8.2)\n",
      "Requirement already satisfied: urllib3<1.27,>=1.25.4 in c:\\users\\serda\\appdata\\local\\programs\\python\\python311\\lib\\site-packages (from botocore<1.30.0,>=1.29.160->boto3) (1.26.15)\n",
      "Requirement already satisfied: six>=1.5 in c:\\users\\serda\\appdata\\roaming\\python\\python311\\site-packages (from python-dateutil<3.0.0,>=2.1->botocore<1.30.0,>=1.29.160->boto3) (1.16.0)\n",
      "Installing collected packages: jmespath, botocore, s3transfer, boto3\n",
      "Successfully installed boto3-1.26.160 botocore-1.29.160 jmespath-1.0.1 s3transfer-0.6.1\n",
      "Note: you may need to restart the kernel to use updated packages.\n"
     ]
    }
   ],
   "source": [
    "pip install boto3\n"
   ]
  },
  {
   "cell_type": "code",
   "execution_count": null,
   "metadata": {},
   "outputs": [],
   "source": [
    "export AWS_ACCESS_KEY_ID=YOUR_ACCESS_KEY\n",
    "export AWS_SECRET_ACCESS_KEY=YOUR_SECRET_KEY\n"
   ]
  },
  {
   "cell_type": "code",
   "execution_count": null,
   "metadata": {},
   "outputs": [],
   "source": [
    "import boto3\n",
    "\n",
    "# Create an S3 client\n",
    "s3 = boto3.client('s3')\n",
    "\n",
    "filename = 'frenchhotels.csv'\n",
    "bucket_name = 'your-bucket-name'\n",
    "\n",
    "# Uploads the given file using a managed uploader, which will split up large\n",
    "# files automatically and upload parts in parallel.\n",
    "s3.upload_file(filename, bucket_name, filename)#\n",
    "s3.upload_file(filename, bucket_name, 'folder/' + filename)\n"
   ]
  }
 ],
 "metadata": {
  "kernelspec": {
   "display_name": "Python 3",
   "language": "python",
   "name": "python3"
  },
  "language_info": {
   "codemirror_mode": {
    "name": "ipython",
    "version": 3
   },
   "file_extension": ".py",
   "mimetype": "text/x-python",
   "name": "python",
   "nbconvert_exporter": "python",
   "pygments_lexer": "ipython3",
   "version": "3.11.2"
  },
  "orig_nbformat": 4
 },
 "nbformat": 4,
 "nbformat_minor": 2
}

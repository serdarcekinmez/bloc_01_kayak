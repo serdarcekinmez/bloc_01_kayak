{
 "cells": [
  {
   "cell_type": "code",
   "execution_count": 27,
   "metadata": {},
   "outputs": [
    {
     "name": "stdout",
     "output_type": "stream",
     "text": [
      "Response status code: 404\n",
      "Response text: {\"detail\":\"Object not found\"}\n",
      "{'detail': 'Object not found'}\n",
      "No hotel data found for Orleans\n",
      "(None, None)\n"
     ]
    }
   ],
   "source": [
    "import requests\n",
    "\n",
    "# Your actual API key should go here.\n",
    "hotels_api_key = \"YOUR_API_KEY\"\n",
    "\n",
    "def get_hotel_and_scores(city):\n",
    "    headers = {\n",
    "        'x-rapidapi-host': 'hotels-com-provider.p.rapidapi.com',\n",
    "        'x-rapidapi-key': hotels_api_key\n",
    "    }\n",
    "    \n",
    "    params = (\n",
    "    (\"query\", 'Orleans'),\n",
    "    (\"locale\", \"fr_FR\"),\n",
    "    (\"domain\", \"FR\"),\n",
    "    (\"sort_order\", \"REVIEW\"),  # or any other valid value\n",
    "    (\"region_id\", \"1234\"),\n",
    "    (\"checkin_date\", \"2023-07-01\"),\n",
    "    (\"checkout_date\", \"2023-07-10\"),\n",
    "    (\"adults_number\", 2),\n",
    ")\n",
    "    try:\n",
    "        response = requests.get('https://hotels-com-provider.p.rapidapi.com/v2/hotels/search', headers=headers, params=params)\n",
    "        print(f\"Response status code: {response.status_code}\")  # print out the status code\n",
    "        if response.status_code != 200:\n",
    "            print(f\"Response text: {response.text}\")  # print out the response text if status code is not 200\n",
    "        data = response.json()\n",
    "        print(data)  # print out the whole JSON data\n",
    "        if 'hotels' in data:\n",
    "            hotel_name = data['hotels'][0]['name']\n",
    "            hotel_id = data['hotels'][0]['id']\n",
    "            score = data['hotels'][0]['guest_reviews']['rating']\n",
    "            total_reviews = data['hotels'][0]['guest_reviews']['total']\n",
    "            return hotel_name, (score, total_reviews)\n",
    "        else:\n",
    "            print(f\"No hotel data found for {city}\")\n",
    "            return None, None\n",
    "    except Exception as e:\n",
    "        print(f\"An error occurred: {e}\")\n",
    "        return None, None\n",
    "\n",
    "print(get_hotel_and_scores(\"Orleans\"))\n",
    "\n",
    "\n",
    "\n"
   ]
  },
  {
   "cell_type": "code",
   "execution_count": null,
   "metadata": {},
   "outputs": [],
   "source": []
  }
 ],
 "metadata": {
  "kernelspec": {
   "display_name": "Python 3",
   "language": "python",
   "name": "python3"
  },
  "language_info": {
   "codemirror_mode": {
    "name": "ipython",
    "version": 3
   },
   "file_extension": ".py",
   "mimetype": "text/x-python",
   "name": "python",
   "nbconvert_exporter": "python",
   "pygments_lexer": "ipython3",
   "version": "3.11.2"
  },
  "orig_nbformat": 4
 },
 "nbformat": 4,
 "nbformat_minor": 2
}

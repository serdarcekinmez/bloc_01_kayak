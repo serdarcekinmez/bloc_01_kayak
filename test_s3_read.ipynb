{
 "cells": [
  {
   "cell_type": "code",
   "execution_count": null,
   "metadata": {},
   "outputs": [],
   "source": []
  },
  {
   "cell_type": "code",
   "execution_count": 6,
   "metadata": {},
   "outputs": [
    {
     "name": "stdout",
     "output_type": "stream",
     "text": [
      "                city        lat      lon    weather  temperature       id  \\\n",
      "0  Mont Saint Michel  48.635954 -1.51146  clear sky        27.39  4569759   \n",
      "1  Mont Saint Michel  48.635954 -1.51146  clear sky        27.39  2934442   \n",
      "2  Mont Saint Michel  48.635954 -1.51146  clear sky        27.39  1170658   \n",
      "3  Mont Saint Michel  48.635954 -1.51146  clear sky        27.39    20699   \n",
      "4  Mont Saint Michel  48.635954 -1.51146  clear sky        27.39  6560916   \n",
      "\n",
      "   overall_rank  availability                                       name  \\\n",
      "0           9.0          True                 Ermitage Mont Saint Michel   \n",
      "1           7.4          True  Residence Le Domaine du Mont - Vacancéole   \n",
      "2           7.6          True                          Altos Hôtel & Spa   \n",
      "3           9.0          True       Hôtel Barrière Le Grand Hôtel Dinard   \n",
      "4           9.4          True                            Hôtel L'Adresse   \n",
      "\n",
      "                                                 tag  \n",
      "0  Hôtel de luxe à Beauvoir avec un restaurant et...  \n",
      "1  Résidence 3 étoiles à Roz-sur-Couesnon avec un...  \n",
      "2  Hôtel 3 étoiles avec un spa proposant des soin...  \n",
      "3  Hôtel 5 étoiles proche de la plage avec spa, p...  \n",
      "4  Hôtel 4 étoiles avec un bar/salon - Plage du S...  \n"
     ]
    }
   ],
   "source": [
    "import boto3\n",
    "import pandas as pd\n",
    "from io import StringIO\n",
    "import os\n",
    "\n",
    "s3 = boto3.client('s3', \n",
    "                  aws_access_key_id=os.getenv('AWS_ACCESS_KEY_ID'),\n",
    "                  aws_secret_access_key=os.getenv('AWS_SECRET_ACCESS_KEY'))\n",
    "\n",
    "# The following line retrieves the object from S3 and reads it into a pandas DataFrame\n",
    "obj = s3.get_object(Bucket='frenchhotels', Key='frenchhotels.csv')\n",
    "data = pd.read_csv(StringIO(obj['Body'].read().decode('utf-8')))\n",
    "\n",
    "print(data.head())\n"
   ]
  },
  {
   "attachments": {},
   "cell_type": "markdown",
   "metadata": {},
   "source": [
    "https://frenchhotels.s3.eu-west-3.amazonaws.com/frenchhotels.csv"
   ]
  },
  {
   "cell_type": "code",
   "execution_count": 8,
   "metadata": {},
   "outputs": [
    {
     "data": {
      "text/plain": [
       "{'Version': '2012-10-17',\n",
       " 'Statement': [{'Sid': 'AddPublicReadAccess',\n",
       "   'Effect': 'Allow',\n",
       "   'Principal': '*',\n",
       "   'Action': ['s3:GetObject'],\n",
       "   'Resource': ['arn:aws:s3:::BucketName/*']}]}"
      ]
     },
     "execution_count": 8,
     "metadata": {},
     "output_type": "execute_result"
    }
   ],
   "source": [
    "{\n",
    "  \"Version\":\"2012-10-17\",\n",
    "  \"Statement\":[\n",
    "    {\n",
    "      \"Sid\":\"AddPublicReadAccess\",\n",
    "      \"Effect\":\"Allow\",\n",
    "      \"Principal\": \"*\",\n",
    "      \"Action\":[\"s3:GetObject\"],\n",
    "      \"Resource\":[\"arn:aws:s3:::BucketName/*\"]\n",
    "    }\n",
    "  ]\n",
    "}\n",
    "\n",
    "# to make it public simply change BucketName to your bucket name and run the command#\n",
    "#aws s3api put-bucket-policy --bucket BucketName --policy file://policy.json\n"
   ]
  },
  {
   "cell_type": "code",
   "execution_count": null,
   "metadata": {},
   "outputs": [],
   "source": []
  }
 ],
 "metadata": {
  "kernelspec": {
   "display_name": "Python 3",
   "language": "python",
   "name": "python3"
  },
  "language_info": {
   "codemirror_mode": {
    "name": "ipython",
    "version": 3
   },
   "file_extension": ".py",
   "mimetype": "text/x-python",
   "name": "python",
   "nbconvert_exporter": "python",
   "pygments_lexer": "ipython3",
   "version": "3.11.2"
  },
  "orig_nbformat": 4
 },
 "nbformat": 4,
 "nbformat_minor": 2
}

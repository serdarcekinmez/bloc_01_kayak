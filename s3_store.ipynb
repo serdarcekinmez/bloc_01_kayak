{
 "cells": [
  {
   "cell_type": "code",
   "execution_count": null,
   "metadata": {},
   "outputs": [],
   "source": []
  },
  {
   "cell_type": "code",
   "execution_count": null,
   "metadata": {},
   "outputs": [],
   "source": [
    "set AWS_ACCESS_KEY_ID=YOUR_ACCESS_KEY\n",
    "set AWS_SECRET_ACCESS_KEY=YOUR_SECRET_KEY\n",
    "\n",
    "#set for windows / export for linux from the prompte commande\n"
   ]
  },
  {
   "cell_type": "code",
   "execution_count": 1,
   "metadata": {},
   "outputs": [
    {
     "name": "stdout",
     "output_type": "stream",
     "text": [
      "Upload Successful\n"
     ]
    }
   ],
   "source": [
    "import boto3\n",
    "from botocore.exceptions import NoCredentialsError\n",
    "import os\n",
    "\n",
    "local_file = 'C:\\\\Users\\\\serda\\\\OneDrive\\\\Bureau\\\\Online Education\\\\Certification\\\\kayak\\\\frenchhotels.csv'\n",
    "\n",
    "def upload_to_aws(local_file, bucket, s3_file):\n",
    "    s3 = boto3.client('s3', aws_access_key_id=os.getenv('AWS_ACCESS_KEY_ID'),\n",
    "                      aws_secret_access_key=os.getenv('AWS_SECRET_ACCESS_KEY'))\n",
    "\n",
    "    try:\n",
    "        s3.upload_file(local_file, bucket, s3_file)\n",
    "        print(\"Upload Successful\")\n",
    "        return True\n",
    "    except FileNotFoundError:\n",
    "        print(\"The file was not found\")\n",
    "        return False\n",
    "    except NoCredentialsError:\n",
    "        print(\"Credentials not available\")\n",
    "        return False\n",
    "\n",
    "uploaded = upload_to_aws(local_file, 'frenchhotels', 'frenchhotels.csv')\n",
    "\n",
    "#http://acs.amazonaws.com/groups/global/AllUsers\n",
    "\n",
    "\n",
    "\n"
   ]
  }
 ],
 "metadata": {
  "kernelspec": {
   "display_name": "Python 3",
   "language": "python",
   "name": "python3"
  },
  "language_info": {
   "codemirror_mode": {
    "name": "ipython",
    "version": 3
   },
   "file_extension": ".py",
   "mimetype": "text/x-python",
   "name": "python",
   "nbconvert_exporter": "python",
   "pygments_lexer": "ipython3",
   "version": "3.11.2"
  },
  "orig_nbformat": 4
 },
 "nbformat": 4,
 "nbformat_minor": 2
}
